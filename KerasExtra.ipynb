{
  "nbformat": 4,
  "nbformat_minor": 0,
  "metadata": {
    "colab": {
      "name": "KerasExtra.ipynb",
      "provenance": [],
      "collapsed_sections": []
    },
    "kernelspec": {
      "name": "python3",
      "display_name": "Python 3"
    }
  },
  "cells": [
    {
      "cell_type": "markdown",
      "metadata": {
        "id": "_IpZzi8DEtAM",
        "colab_type": "text"
      },
      "source": [
        "# Reproducable results with keras"
      ]
    },
    {
      "cell_type": "markdown",
      "metadata": {
        "id": "pES2L5_qEyCE",
        "colab_type": "text"
      },
      "source": [
        "Because of random initialization we may get different result by running the models each time. \n",
        "- Python\n",
        "- Numpy\n",
        "- TensorFlow\n",
        "\n",
        "we have to set random seed for each of these"
      ]
    },
    {
      "cell_type": "code",
      "metadata": {
        "id": "s4dUctTsEw7h",
        "colab_type": "code",
        "colab": {}
      },
      "source": [
        "import numpy as np\n",
        "import tensorflow as tf\n",
        "import random as rn"
      ],
      "execution_count": null,
      "outputs": []
    },
    {
      "cell_type": "code",
      "metadata": {
        "id": "X3gotB7RFowJ",
        "colab_type": "code",
        "colab": {}
      },
      "source": [
        "import os\n",
        "os.environ['PYTHONHASGSEED'] = '0'\n",
        "os.environ['CUDA_VISIBLE_DEVICES'] = ''  # forcing the code to run on cpu\n",
        "# this is necessary for any hash based algorithm."
      ],
      "execution_count": null,
      "outputs": []
    },
    {
      "cell_type": "code",
      "metadata": {
        "id": "N4gt35ulF51r",
        "colab_type": "code",
        "colab": {}
      },
      "source": [
        "# setting the seed for numpy\n",
        "np.random.seed(123) # we can use any integer number "
      ],
      "execution_count": null,
      "outputs": []
    },
    {
      "cell_type": "code",
      "metadata": {
        "id": "pSS-LQ1KGNFt",
        "colab_type": "code",
        "colab": {}
      },
      "source": [
        "# setting the seed for python random numbers\n",
        "rn.seed(123)"
      ],
      "execution_count": null,
      "outputs": []
    },
    {
      "cell_type": "code",
      "metadata": {
        "id": "u6iDujrVGY1w",
        "colab_type": "code",
        "colab": {}
      },
      "source": [
        "# setting the seed for tensorflow\n",
        "tf.random.set_seed(1234)"
      ],
      "execution_count": null,
      "outputs": []
    },
    {
      "cell_type": "code",
      "metadata": {
        "id": "iPQu7JY3GhoY",
        "colab_type": "code",
        "colab": {}
      },
      "source": [
        ""
      ],
      "execution_count": null,
      "outputs": []
    },
    {
      "cell_type": "markdown",
      "metadata": {
        "id": "ZeNweY1PLZv6",
        "colab_type": "text"
      },
      "source": [
        "# Initialize and access Bias"
      ]
    },
    {
      "cell_type": "code",
      "metadata": {
        "id": "3WPuTmYYHUvt",
        "colab_type": "code",
        "colab": {}
      },
      "source": [
        "import keras \n",
        "from keras.models import Sequential\n",
        "from keras.layers import Dense, Activation"
      ],
      "execution_count": 1,
      "outputs": []
    },
    {
      "cell_type": "code",
      "metadata": {
        "id": "H_SdxIEcLvDT",
        "colab_type": "code",
        "colab": {}
      },
      "source": [
        "model = Sequential([\n",
        "                    Dense(4, input_shape = (1,), activation='relu', use_bias=True, bias_initializer='zeros'), # we can use xavier initializer\n",
        "                    Dense(2, activation='softmax')\n",
        "])\n",
        "# by_default use_bias is true"
      ],
      "execution_count": 2,
      "outputs": []
    },
    {
      "cell_type": "code",
      "metadata": {
        "id": "QfIC4DUwMDs4",
        "colab_type": "code",
        "colab": {
          "base_uri": "https://localhost:8080/",
          "height": 153
        },
        "outputId": "eb4431dc-d442-4581-ba93-6d4f89e515ce"
      },
      "source": [
        "model.get_weights()"
      ],
      "execution_count": 3,
      "outputs": [
        {
          "output_type": "execute_result",
          "data": {
            "text/plain": [
              "[array([[-1.0908242 ,  0.81720734,  0.6380968 ,  0.8452325 ]],\n",
              "       dtype=float32),\n",
              " array([0., 0., 0., 0.], dtype=float32),\n",
              " array([[-0.9331958 , -0.4608717 ],\n",
              "        [ 0.47720933, -0.40190744],\n",
              "        [ 0.79337525, -0.2518444 ],\n",
              "        [ 0.94572186,  0.16292667]], dtype=float32),\n",
              " array([0., 0.], dtype=float32)]"
            ]
          },
          "metadata": {
            "tags": []
          },
          "execution_count": 3
        }
      ]
    },
    {
      "cell_type": "code",
      "metadata": {
        "id": "zSxX3YEMMGH4",
        "colab_type": "code",
        "colab": {}
      },
      "source": [
        "print(help(Dense))"
      ],
      "execution_count": null,
      "outputs": []
    },
    {
      "cell_type": "code",
      "metadata": {
        "id": "sKO34Ch4MWoq",
        "colab_type": "code",
        "colab": {}
      },
      "source": [
        ""
      ],
      "execution_count": null,
      "outputs": []
    },
    {
      "cell_type": "markdown",
      "metadata": {
        "id": "-Qz-FTGfNMU9",
        "colab_type": "text"
      },
      "source": [
        "# Learnable Parameters"
      ]
    },
    {
      "cell_type": "code",
      "metadata": {
        "id": "nPeVRCdSNORp",
        "colab_type": "code",
        "colab": {}
      },
      "source": [
        ""
      ],
      "execution_count": null,
      "outputs": []
    }
  ]
}